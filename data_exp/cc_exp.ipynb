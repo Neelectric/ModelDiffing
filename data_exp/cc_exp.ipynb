{
 "cells": [
  {
   "cell_type": "markdown",
   "metadata": {},
   "source": [
    "# Data Exploration\n",
    "In this file, I explore the results of my cross-coder training, following examples set by Connor Kissane, Robert Krzyzanowski, Arthur Conmy and Neel Nanda in [this colab](https://colab.research.google.com/drive/124ODki4dUjfi21nuZPHRySALx9I74YHj?usp=sharing)."
   ]
  }
 ],
 "metadata": {
  "language_info": {
   "name": "python"
  }
 },
 "nbformat": 4,
 "nbformat_minor": 2
}
